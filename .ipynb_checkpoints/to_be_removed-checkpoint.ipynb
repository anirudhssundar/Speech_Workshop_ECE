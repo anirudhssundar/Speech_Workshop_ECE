{
 "cells": [
  {
   "cell_type": "markdown",
   "metadata": {},
   "source": [
    "## Sampling\n",
    "Sample the signal $cos ( 10 \\pi t)$ using the following frequencies (a) 100Hz (b) 20 Hz (c) 7.5 Hz (d) 5 Hz (e) 2.5 Hz"
   ]
  },
  {
   "cell_type": "code",
   "execution_count": null,
   "metadata": {},
   "outputs": [],
   "source": [
    "import numpy as np \n",
    "import matplotlib.pyplot as plt\n",
    "\n",
    "t0 = np.arange(0,1,1/100)\n",
    "s0 = np.cos(10*np.pi*t0)\n",
    "plt.stem(t0,s0);\n",
    "plt.title('fs=100Hz')\n",
    "plt.show();"
   ]
  },
  {
   "cell_type": "markdown",
   "metadata": {},
   "source": [
    "## Discrete Fourier Transform\n",
    "\n",
    "Plot the 8 point DFT of x[n] = {1,1,0,0,0,0,0,1}"
   ]
  },
  {
   "cell_type": "code",
   "execution_count": null,
   "metadata": {},
   "outputs": [],
   "source": [
    "import numpy as np\n",
    "import scipy.signal as sig\n",
    "import matplotlib.pyplot as plt\n",
    "\n",
    "M = 256 \n",
    "k = range(M) #To plot the x axis\n",
    "a = np.array([1,1,0,0,0,0,0,1])\n",
    "\n",
    "c=np.arange(0, 2*np.pi, 2*np.pi/4096) \n",
    "w1,h1 = sig.freqz(a,[1],c)\n",
    "h1db=20*np.log10(abs(h1))\n",
    "plt.plot(w1/(2*np.pi),h1db)\n",
    "plt.show()\n",
    "angles = np.unwrap(np.angle(h1))\n",
    "plt.plot(w1/(2*np.pi), angles, 'g')\n",
    "plt.show()\n",
    "\n",
    "A = np.fft.fft(a,M) #We're computing 8 point DFT\n",
    "plt.stem(k,20*np.log10(abs(A))) #To plot the magnitude\n",
    "plt.show()\n",
    "angles = np.unwrap(np.angle(A))\n",
    "plt.stem(k, angles, 'g')#To plot the phase\n",
    "plt.show()"
   ]
  },
  {
   "cell_type": "markdown",
   "metadata": {},
   "source": [
    "## Spectrogram"
   ]
  },
  {
   "cell_type": "code",
   "execution_count": null,
   "metadata": {},
   "outputs": [],
   "source": [
    "import matplotlib.pyplot as plt\n",
    "from scipy import signal\n",
    "from scipy.io import wavfile\n",
    "import numpy as np\n",
    "\n",
    "sample_rate, samples = wavfile.read('spectrogram_audio.wav')\n",
    "frequencies, times, spectrogram = signal.spectrogram(samples[0:sample_rate*7], sample_rate, nfft = 4096)\n",
    "\n",
    "plt.figure(figsize=(20,5))\n",
    "plt.ylabel('Frequency [Hz]')\n",
    "plt.xlabel('Time [sec]')\n",
    "plt.pcolormesh(times, frequencies, spectrogram, cmap='plasma')"
   ]
  },
  {
   "cell_type": "code",
   "execution_count": null,
   "metadata": {},
   "outputs": [],
   "source": []
  }
 ],
 "metadata": {
  "kernelspec": {
   "display_name": "Python 3",
   "language": "python",
   "name": "python3"
  },
  "language_info": {
   "codemirror_mode": {
    "name": "ipython",
    "version": 3
   },
   "file_extension": ".py",
   "mimetype": "text/x-python",
   "name": "python",
   "nbconvert_exporter": "python",
   "pygments_lexer": "ipython3",
   "version": "3.6.9"
  }
 },
 "nbformat": 4,
 "nbformat_minor": 2
}
