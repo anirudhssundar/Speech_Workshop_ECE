{
 "cells": [
  {
   "cell_type": "markdown",
   "metadata": {},
   "source": [
    "# Linear Prediction Coefficient"
   ]
  },
  {
   "cell_type": "code",
   "execution_count": null,
   "metadata": {},
   "outputs": [],
   "source": [
    "import numpy as np\n",
    "import scipy.signal as sig\n",
    "import scipy.io.wavfile as wav\n",
    "import scipy.linalg as linalg\n",
    "import librosa\n",
    "from scipy.linalg import solve_toeplitz"
   ]
  },
  {
   "cell_type": "code",
   "execution_count": null,
   "metadata": {},
   "outputs": [],
   "source": [
    "filename = \"audio_files/spectrogram_audio.wav\"\n",
    "rate, signal = wav.read(filename)\n",
    "\n",
    "# Pre-emphasis to ephasize higher frequencies\n",
    "pre_emphasis = 0.97\n",
    "emphasizedSignal = np.append(signal[0], signal[1:] - pre_emphasis * signal[:-1])"
   ]
  },
  {
   "cell_type": "code",
   "execution_count": null,
   "metadata": {},
   "outputs": [],
   "source": [
    "order = 13\n",
    "\n",
    "autocorrelation = sig.fftconvolve(emphasizedSignal, emphasizedSignal[::-1])\n",
    "autocorr_coefficients = autocorrelation[int(len(autocorrelation)/2):][:(order + 1)]\n",
    "\n",
    "R = linalg.toeplitz(autocorr_coefficients[:order])\n",
    "\n",
    "lpc_coefficients = solve_toeplitz(autocorr_coefficients[:order],autocorr_coefficients[1:order+1])\n",
    "#lpc_coefficients = np.dot(linalg.inv(R), autocorr_coefficients[1:order+1])\n",
    "print(lpc_coefficients)\n",
    "\n",
    "lpc_librosa = librosa.lpc(emphasizedSignal,order=13)\n",
    "print(lpc_librosa[1:])\n",
    "print(np.array_equal(lpc_librosa[1:],lpc_coefficients))"
   ]
  }
 ],
 "metadata": {
  "kernelspec": {
   "display_name": "Python 3",
   "language": "python",
   "name": "python3"
  },
  "language_info": {
   "codemirror_mode": {
    "name": "ipython",
    "version": 3
   },
   "file_extension": ".py",
   "mimetype": "text/x-python",
   "name": "python",
   "nbconvert_exporter": "python",
   "pygments_lexer": "ipython3",
   "version": "3.7.6"
  }
 },
 "nbformat": 4,
 "nbformat_minor": 2
}
