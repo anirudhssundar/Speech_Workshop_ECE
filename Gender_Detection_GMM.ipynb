{
 "cells": [
  {
   "cell_type": "markdown",
   "metadata": {},
   "source": [
    "# Gender Detection using Gaussian Mixture Models"
   ]
  },
  {
   "cell_type": "markdown",
   "metadata": {},
   "source": [
    "## Setup\n",
    "We first need to import the required Python libraries for the entire anaylsis  \n",
    "Prerequisites required in this implementation are:\n",
    "```\n",
    "Python 3.x \n",
    "numpy   \n",
    "scipy\n",
    "matplotlib\n",
    "scikit-learn\n",
    "librosa\n",
    "```\n",
    "\n",
    "You can invoke any required library into your workspace as:  \n",
    "`import package_name`  "
   ]
  },
  {
   "cell_type": "code",
   "execution_count": 15,
   "metadata": {},
   "outputs": [],
   "source": [
    "import os\n",
    "import pickle\n",
    "import numpy as np\n",
    "from scipy.io.wavfile import read\n",
    "from sklearn.mixture import GaussianMixture as GMM\n",
    "import python_speech_features as mfcc\n",
    "import librosa\n",
    "from sklearn import preprocessing\n",
    "import warnings\n",
    "import argparse\n",
    "\n",
    "#Ignore warnings for now\n",
    "warnings.filterwarnings(\"ignore\")"
   ]
  },
  {
   "cell_type": "markdown",
   "metadata": {},
   "source": [
    "### Load training data"
   ]
  },
  {
   "cell_type": "code",
   "execution_count": 11,
   "metadata": {},
   "outputs": [
    {
     "name": "stdout",
     "output_type": "stream",
     "text": [
      "Number of male files =  5\n",
      "Number of female files =  5\n"
     ]
    }
   ],
   "source": [
    "training_path = '../pygender/train_data'\n",
    "\n",
    "male_files = []\n",
    "female_files = []\n",
    "\n",
    "# r=root, d=directories, f = files\n",
    "for r, d, f in os.walk(os.path.join(training_path,'male')):\n",
    "    for file in f:\n",
    "        if '.wav' in file:\n",
    "            male_files.append(os.path.join(r, file))\n",
    "for r, d, f in os.walk(os.path.join(training_path,'female')):\n",
    "    for file in f:\n",
    "        if '.wav' in file:\n",
    "            female_files.append(os.path.join(r, file))\n",
    "print('Number of male files = ', len(male_files))\n",
    "print('Number of female files = ', len(female_files))"
   ]
  },
  {
   "cell_type": "markdown",
   "metadata": {},
   "source": [
    "### Feature extraction\n",
    "Now let's extract MFCC features that we will use for training our GMMs"
   ]
  },
  {
   "cell_type": "code",
   "execution_count": 26,
   "metadata": {},
   "outputs": [],
   "source": [
    "def get_MFCC(sampling_rate,audio):\n",
    "    #features = librosa.feature.mfcc(audio,sampling_rate, win_length = int(0.025*sampling_rate), n_mfcc = 13)\n",
    "    ### Alternatively, one can extract mfcc features from the python_speech_features module\n",
    "    features = mfcc.mfcc(audio,sampling_rate, 0.025, 0.01, 13,appendEnergy = False)    \n",
    "    features = preprocessing.scale(features)\n",
    "    return features"
   ]
  },
  {
   "cell_type": "code",
   "execution_count": 27,
   "metadata": {},
   "outputs": [],
   "source": [
    "features = np.asarray(())\n",
    "for f in male_files:\n",
    "    sampling_rate,audio = read(f)\n",
    "    vector   = get_MFCC(sampling_rate,audio)\n",
    "    if features.size == 0:\n",
    "        features = vector\n",
    "    else:\n",
    "        features = np.vstack((features, vector))"
   ]
  },
  {
   "cell_type": "code",
   "execution_count": 28,
   "metadata": {},
   "outputs": [
    {
     "data": {
      "text/plain": [
       "(30169, 13)"
      ]
     },
     "execution_count": 28,
     "metadata": {},
     "output_type": "execute_result"
    }
   ],
   "source": [
    "features.shape"
   ]
  },
  {
   "cell_type": "markdown",
   "metadata": {},
   "source": []
  }
 ],
 "metadata": {
  "kernelspec": {
   "display_name": "Python 3",
   "language": "python",
   "name": "python3"
  },
  "language_info": {
   "codemirror_mode": {
    "name": "ipython",
    "version": 3
   },
   "file_extension": ".py",
   "mimetype": "text/x-python",
   "name": "python",
   "nbconvert_exporter": "python",
   "pygments_lexer": "ipython3",
   "version": "3.6.9"
  }
 },
 "nbformat": 4,
 "nbformat_minor": 2
}
