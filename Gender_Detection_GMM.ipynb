{
 "cells": [
  {
   "cell_type": "markdown",
   "metadata": {},
   "source": [
    "# Gender Detection using Gaussian Mixture Models"
   ]
  },
  {
   "cell_type": "markdown",
   "metadata": {},
   "source": [
    "## Setup\n",
    "We first need to import the required Python libraries for the entire anaylsis  \n",
    "Prerequisites required in this implementation are:\n",
    "```\n",
    "Python 3.x \n",
    "numpy   \n",
    "scipy\n",
    "matplotlib\n",
    "scikit-learn\n",
    "librosa\n",
    "```\n",
    "\n",
    "You can invoke any required library into your workspace as:  \n",
    "`import package_name`  "
   ]
  },
  {
   "cell_type": "code",
   "execution_count": null,
   "metadata": {},
   "outputs": [],
   "source": [
    "import os\n",
    "import pickle\n",
    "import numpy as np\n",
    "from scipy.io.wavfile import read\n",
    "from sklearn.mixture import GaussianMixture as GMM\n",
    "from sklearn import preprocessing\n",
    "import librosa\n",
    "import warnings\n",
    "\n",
    "#Ignore warnings for now\n",
    "warnings.filterwarnings(\"ignore\")"
   ]
  },
  {
   "cell_type": "markdown",
   "metadata": {},
   "source": [
    "### Load training data"
   ]
  },
  {
   "cell_type": "code",
   "execution_count": null,
   "metadata": {},
   "outputs": [],
   "source": [
    "training_path = '../pygender/train_data'\n",
    "\n",
    "male_files = []\n",
    "female_files = []\n",
    "\n",
    "# r=root, d=directories, f = files\n",
    "for r, d, f in os.walk(os.path.join(training_path,'male')):\n",
    "    for file in f:\n",
    "        if '.wav' in file:\n",
    "            male_files.append(os.path.join(r, file))\n",
    "for r, d, f in os.walk(os.path.join(training_path,'female')):\n",
    "    for file in f:\n",
    "        if '.wav' in file:\n",
    "            female_files.append(os.path.join(r, file))\n",
    "print('Number of male files = ', len(male_files))\n",
    "print('Number of female files = ', len(female_files))"
   ]
  },
  {
   "cell_type": "markdown",
   "metadata": {},
   "source": [
    "### Feature extraction\n",
    "Now let's extract MFCC features that we will use for training our GMMs.\n",
    "\n",
    "We will first train a GMM model for female speech."
   ]
  },
  {
   "cell_type": "code",
   "execution_count": null,
   "metadata": {},
   "outputs": [],
   "source": [
    "def get_MFCC(sampling_rate,audio):\n",
    "    features = librosa.feature.mfcc(audio,sampling_rate, win_length = int(0.025*sampling_rate), hop_length = int(0.01*sampling_rate), n_mfcc = 13, htk=True)\n",
    "    features = np.transpose(features)\n",
    "    features = preprocessing.scale(features)\n",
    "    return features"
   ]
  },
  {
   "cell_type": "code",
   "execution_count": null,
   "metadata": {},
   "outputs": [],
   "source": [
    "features = np.asarray(())\n",
    "for f in female_files:\n",
    "    sampling_rate,audio = read(f)\n",
    "    vector   = get_MFCC(sampling_rate,audio.astype(float))\n",
    "    if features.size == 0:\n",
    "        features = vector\n",
    "    else:\n",
    "        features = np.vstack((features, vector))\n",
    "print('Feature vector shape: ',features.shape)"
   ]
  },
  {
   "cell_type": "markdown",
   "metadata": {},
   "source": [
    "### Fitting a GMM\n"
   ]
  },
  {
   "cell_type": "code",
   "execution_count": null,
   "metadata": {},
   "outputs": [],
   "source": [
    "female_gmm = GMM(n_components = 8, max_iter = 200, covariance_type='diag',n_init = 3)\n",
    "female_gmm.fit(features)"
   ]
  },
  {
   "cell_type": "markdown",
   "metadata": {},
   "source": [
    "### Saving the trained model\n",
    "We use the _pickle_ module to save (\"pickle\") the trainel GMM model, which can be used whie testing."
   ]
  },
  {
   "cell_type": "code",
   "execution_count": null,
   "metadata": {},
   "outputs": [],
   "source": [
    "picklefile = \"models/female.gmm\"\n",
    "pickle.dump(female_gmm,open(picklefile,'wb'))"
   ]
  },
  {
   "cell_type": "markdown",
   "metadata": {},
   "source": [
    "Similarly, we train a Gaussian Mixture Model to model male speech"
   ]
  },
  {
   "cell_type": "code",
   "execution_count": null,
   "metadata": {},
   "outputs": [],
   "source": [
    "features = np.asarray(());\n",
    "for f in male_files:\n",
    "    sampling_rate,audio = read(f)\n",
    "    vector   = get_MFCC(sampling_rate,audio.astype(float))\n",
    "    if features.size == 0:\n",
    "        features = vector\n",
    "    else:\n",
    "        features = np.vstack((features, vector))\n",
    "\n",
    "male_gmm = GMM(n_components = 8, max_iter = 200, covariance_type='diag',n_init = 3)\n",
    "male_gmm.fit(features)\n",
    "\n",
    "picklefile = \"models/male.gmm\"\n",
    "pickle.dump(male_gmm,open(picklefile,'wb'))"
   ]
  },
  {
   "cell_type": "markdown",
   "metadata": {},
   "source": [
    "# Test\n",
    "\n",
    "Let's load the test files, and the pickled models"
   ]
  },
  {
   "cell_type": "code",
   "execution_count": null,
   "metadata": {},
   "outputs": [],
   "source": [
    "test_path = '../pygender/test_data'\n",
    "model_path = 'models'\n",
    "gmm_files = [os.path.join(model_path,fname) for fname in os.listdir(model_path) if fname.endswith('.gmm')]\n",
    "print(gmm_files)"
   ]
  },
  {
   "cell_type": "markdown",
   "metadata": {},
   "source": [
    "Unpickling to retrieve the saved models"
   ]
  },
  {
   "cell_type": "code",
   "execution_count": null,
   "metadata": {},
   "outputs": [],
   "source": [
    "models = [pickle.load(open(fname,'rb')) for fname in gmm_files]"
   ]
  },
  {
   "cell_type": "code",
   "execution_count": null,
   "metadata": {},
   "outputs": [],
   "source": [
    "files = [[], []]\n",
    "\n",
    "true = [0,0]\n",
    "false = [0,0]\n",
    "total = [0,0]\n",
    "for j, gen in enumerate(['female', 'male']):\n",
    "    # r=root, d=directories, f = files\n",
    "    for r, d, f in os.walk(os.path.join(test_path, gen)):\n",
    "        for file in f:\n",
    "            if '.wav' in file:\n",
    "                files[j].append(os.path.join(r, file))\n",
    "    for f in files[j]:\n",
    "        # print(f.split(\"/\")[-1])\n",
    "        sampling_rate, audio  = read(f)\n",
    "        features   = get_MFCC(sampling_rate,audio.astype(float))\n",
    "        scores     = None\n",
    "        log_likelihood = np.zeros(len(models))\n",
    "        for i in range(len(models)):\n",
    "            gmm    = models[i]         #checking with each model one by one\n",
    "            scores = np.array(gmm.score(features))\n",
    "            log_likelihood[i] = scores.sum()\n",
    "        winner = np.argmax(log_likelihood)\n",
    "        if(winner == j):\n",
    "            true[j]+=1\n",
    "        else:\n",
    "            false[j]+=1\n",
    "        total[j]+=1"
   ]
  },
  {
   "cell_type": "markdown",
   "metadata": {},
   "source": [
    "Calculate and print accuracy"
   ]
  },
  {
   "cell_type": "code",
   "execution_count": null,
   "metadata": {},
   "outputs": [],
   "source": [
    "accuracy = (sum(true)/sum(total))\n",
    "print(\"Accuracy = \", accuracy*100, \"%\")"
   ]
  },
  {
   "cell_type": "markdown",
   "metadata": {},
   "source": [
    "Now try recording your voice, and test if the GMM works!"
   ]
  },
  {
   "cell_type": "code",
   "execution_count": null,
   "metadata": {},
   "outputs": [],
   "source": [
    "audio_file_path = 'manan.wav'\n",
    "dict = {0:'FEMALE', 1:'MALE'}\n",
    "sampling_rate, audio  = read(audio_file_path)\n",
    "features   = get_MFCC(sampling_rate,audio.astype(float))\n",
    "scores     = None\n",
    "log_likelihood = np.zeros(len(models))\n",
    "for i in range(len(models)):\n",
    "    gmm    = models[i]         #checking with each model one by one\n",
    "    scores = np.array(gmm.score(features))\n",
    "    log_likelihood[i] = scores.sum()\n",
    "winner = np.argmax(log_likelihood)\n",
    "print(dict[winner])"
   ]
  },
  {
   "cell_type": "code",
   "execution_count": null,
   "metadata": {},
   "outputs": [],
   "source": []
  }
 ],
 "metadata": {
  "kernelspec": {
   "display_name": "Python 3",
   "language": "python",
   "name": "python3"
  },
  "language_info": {
   "codemirror_mode": {
    "name": "ipython",
    "version": 3
   },
   "file_extension": ".py",
   "mimetype": "text/x-python",
   "name": "python",
   "nbconvert_exporter": "python",
   "pygments_lexer": "ipython3",
   "version": "3.6.9"
  }
 },
 "nbformat": 4,
 "nbformat_minor": 2
}
