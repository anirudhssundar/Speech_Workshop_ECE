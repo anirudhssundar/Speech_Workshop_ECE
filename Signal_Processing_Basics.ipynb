{
 "cells": [
  {
   "cell_type": "markdown",
   "metadata": {},
   "source": [
    "# Read and Write Audio Files"
   ]
  },
  {
   "cell_type": "markdown",
   "metadata": {},
   "source": [
    "### Now that we have had a look at some basic DSP let's move on to some audio processing\n",
    "\n",
    "The primary analysis of any audio would naturally begin with a sine wave\n",
    "\n",
    "Sines and cosines form the basic framework behind any analysis of signals we find in nature"
   ]
  },
  {
   "cell_type": "code",
   "execution_count": null,
   "metadata": {},
   "outputs": [],
   "source": [
    "import numpy as np\n",
    "import matplotlib.pyplot as plt\n",
    "import scipy.io.wavfile as wav\n",
    "import warnings\n",
    "\n",
    "# Let's ignore any warnings the code throws up for the time being\n",
    "warnings.filterwarnings('ignore')\n"
   ]
  },
  {
   "cell_type": "code",
   "execution_count": null,
   "metadata": {
    "scrolled": true
   },
   "outputs": [],
   "source": [
    "x = (2*np.pi)*np.arange(1000)*(1/1000)\n",
    "y = 100*np.sin(x)\n",
    "\n",
    "plt.plot(180*x/np.pi,y)\n",
    "plt.title(\"Sine Wave\")\n",
    "plt.xlabel('Angle in degrees')\n",
    "plt.show()"
   ]
  },
  {
   "cell_type": "markdown",
   "metadata": {},
   "source": [
    "As seen above we have created a sine wave that extends from 0 to 360 degrees\n",
    "\n",
    "**Your task :\n",
    "Create a Sine wave that extends from 0 to an arbitrary length**"
   ]
  },
  {
   "cell_type": "code",
   "execution_count": null,
   "metadata": {},
   "outputs": [],
   "source": [
    "# Your code here, the one above should help"
   ]
  },
  {
   "cell_type": "markdown",
   "metadata": {},
   "source": [
    "## Writing Audio Files\n",
    "\n",
    "We will now have a look at writing audio files to the system and listening to them\n",
    "This would help analyze sine waves from a real life perspective"
   ]
  },
  {
   "cell_type": "code",
   "execution_count": null,
   "metadata": {},
   "outputs": [],
   "source": [
    "#Function to write a sine wave to your system\n",
    "wav.write('audio_files/Sine.wav', 44100, y)"
   ]
  },
  {
   "cell_type": "markdown",
   "metadata": {},
   "source": [
    "Now open your system folder where the iPython notebook was created to find this file and listen to it by opening it with a corresponding pre installed software\n",
    "\n",
    "The file might be of very small duration\n",
    "\n",
    "** Your Task : Try using the sound wave you generated in the previous block and see what happens**\n",
    "\n",
    "Tweak certain parameters to see if you can get your desired response"
   ]
  },
  {
   "cell_type": "code",
   "execution_count": null,
   "metadata": {},
   "outputs": [],
   "source": [
    "# Your code here"
   ]
  },
  {
   "cell_type": "markdown",
   "metadata": {},
   "source": [
    "### The Chirp Signal\n",
    "\n",
    "Let's look at another signal, that's a chirp   \n",
    "A chirp is essentially a frequency sweep"
   ]
  },
  {
   "cell_type": "code",
   "execution_count": null,
   "metadata": {
    "scrolled": true
   },
   "outputs": [],
   "source": [
    "from scipy.signal import chirp\n",
    "\n",
    "t = np.linspace(0, 10, 10001)\n",
    "w = 20*chirp(t, f0=1, f1=6, t1=10, method='linear')\n",
    "\n",
    "plt.plot(t, w)\n",
    "plt.title(\"Linear Chirp, f(0)=1, f(10)=6\")\n",
    "plt.xlabel('t (sec)')\n",
    "plt.show()"
   ]
  },
  {
   "cell_type": "code",
   "execution_count": null,
   "metadata": {},
   "outputs": [],
   "source": [
    "#Function to write a sine wave to your system\n",
    "wav.write('audio_files/Chirp.wav', 44100, w)"
   ]
  },
  {
   "cell_type": "code",
   "execution_count": null,
   "metadata": {
    "scrolled": true
   },
   "outputs": [],
   "source": [
    "from scipy.signal import chirp\n",
    "\n",
    "t = np.linspace(0, 10, 10001)\n",
    "w2 = 20*chirp(t, f0=1, f1=6, t1=10, method='quadratic')\n",
    "\n",
    "plt.plot(t, w2)\n",
    "plt.title(\"Quadratic Chirp, f(0)=1, f(10)=6\")\n",
    "plt.xlabel('t (sec)')\n",
    "plt.show()"
   ]
  },
  {
   "cell_type": "code",
   "execution_count": null,
   "metadata": {},
   "outputs": [],
   "source": [
    "#Function to write a sine wave to your system\n",
    "wavefilename = 'audio_files/Chirp2.wav'\n",
    "wav.write(wavefilename, 44100, w2)"
   ]
  },
  {
   "cell_type": "markdown",
   "metadata": {},
   "source": [
    "Now that we know how to write audio files, lets take a look at how to read and display audio files"
   ]
  },
  {
   "cell_type": "code",
   "execution_count": null,
   "metadata": {},
   "outputs": [],
   "source": [
    "sample_rate, audio = wav.read(wavefilename)\n",
    "\n",
    "print(\"The sampling rate of the signal is : \", sample_rate)\n",
    "\n",
    "plt.plot(t, audio)\n",
    "plt.title(\"Quadratic Chirp Read from the Audio file, f(0)=1, f(10)=6\")\n",
    "plt.xlabel('t (sec)')\n",
    "plt.show()"
   ]
  },
  {
   "cell_type": "markdown",
   "metadata": {},
   "source": [
    "**Task: Read the demo audio file provided and display the same using matplotlib**"
   ]
  },
  {
   "cell_type": "markdown",
   "metadata": {},
   "source": [
    "## Dual Tone Multi Frequency (DTMF)  \n",
    "\n",
    "DTMF forms the basis for our telephone keypads  \n",
    "DTMF is best explained by the following figure:  \n",
    "\n",
    "<img src=\"images/dtmf.png\">  \n",
    "\n",
    "Each number is encoded as a sum of 2 sinusoidal frequencies  \n",
    "\n",
    "Let's try to generate this! "
   ]
  },
  {
   "cell_type": "code",
   "execution_count": null,
   "metadata": {},
   "outputs": [],
   "source": [
    "import matplotlib.pyplot as plt\n",
    "import numpy as np\n",
    "import scipy.io.wavfile as wav\n",
    "\n",
    "Fs = 8000 # The samping rate, we'll discuss more on this later\n",
    "row1_freq = 697 # Frequency of the wave for numbers in row1\n",
    "col1_freq = 1209 # Frequency of the wave for numbers in column 1\n",
    "\n",
    "col2_freq = 1336\n",
    "\n",
    "sample = 4000 # Number of samples\n",
    "x = np.arange(sample)\n",
    "y1 = 10*np.sin(2 * np.pi * row1_freq * x / Fs)\n",
    "\n",
    "\n",
    "y2 = 10*np.sin(2 * np.pi * col1_freq * x / Fs)\n",
    "\n",
    "y4 = 10*np.sin(2 * np.pi * col2_freq * x / Fs)\n",
    "\n",
    "\n",
    "y3 = y1 + y2\n",
    "y5 = y1 + y4\n",
    "\n",
    "\n",
    "pad_wave = np.zeros(sample)\n",
    "\n",
    "y_final = np.concatenate((y3,pad_wave,y5))\n",
    "\n",
    "wav.write('audio_files/Tone1',8000,y3)\n",
    "wav.write('audio_files/Tone2',8000,y5)\n",
    "wav.write('audio_files/Final_Tone',8000,y_final)"
   ]
  },
  {
   "cell_type": "markdown",
   "metadata": {},
   "source": [
    "**Your task : Generate a DTMF that corresponds to your telephone/mobile number by extending the code given above!**"
   ]
  },
  {
   "cell_type": "markdown",
   "metadata": {},
   "source": [
    "## Now that we've got a hang of signals let's move on to some more interesting concepts!"
   ]
  },
  {
   "cell_type": "markdown",
   "metadata": {},
   "source": [
    "## Sampling\n",
    "Sample the signal $cos ( 10 \\pi t)$ using the following frequencies (a) 100Hz (b) 20 Hz (c) 7.5 Hz (d) 5 Hz (e) 2.5 Hz"
   ]
  },
  {
   "cell_type": "code",
   "execution_count": null,
   "metadata": {
    "scrolled": true
   },
   "outputs": [],
   "source": [
    "import numpy as np \n",
    "import matplotlib.pyplot as plt\n",
    "\n",
    "t0 = np.arange(0,1,1/100)\n",
    "s0 = np.cos(10*np.pi*t0)\n",
    "plt.stem(t0,s0);\n",
    "plt.title('fs=100Hz')\n",
    "plt.show();"
   ]
  },
  {
   "cell_type": "markdown",
   "metadata": {},
   "source": [
    "## Discrete Fourier Transform\n",
    "\n",
    "Plot the 8 point DFT of x[n] = {1,1,0,0,0,0,0,1}"
   ]
  },
  {
   "cell_type": "code",
   "execution_count": null,
   "metadata": {},
   "outputs": [],
   "source": [
    "import numpy as np\n",
    "import scipy.signal as sig\n",
    "import matplotlib.pyplot as plt\n",
    "\n",
    "M = 256 \n",
    "k = range(M) #To plot the x axis\n",
    "a = np.array([1,1,0,0,0,0,0,1])\n",
    "\n",
    "c=np.arange(0, 2*np.pi, 2*np.pi/4096) \n",
    "w1,h1 = sig.freqz(a,[1],c)\n",
    "h1db=20*np.log10(abs(h1))\n",
    "plt.plot(w1/(2*np.pi),h1db)\n",
    "plt.show()\n",
    "angles = np.unwrap(np.angle(h1))\n",
    "plt.plot(w1/(2*np.pi), angles, 'g')\n",
    "plt.show()\n",
    "\n",
    "A = np.fft.fft(a,M) #We're computing 8 point DFT\n",
    "plt.stem(k,20*np.log10(abs(A))) #To plot the magnitude\n",
    "plt.show()\n",
    "angles = np.unwrap(np.angle(A))\n",
    "plt.stem(k, angles, 'g')#To plot the phase\n",
    "plt.show()"
   ]
  },
  {
   "cell_type": "markdown",
   "metadata": {},
   "source": [
    "## Spectrogram"
   ]
  },
  {
   "cell_type": "code",
   "execution_count": null,
   "metadata": {},
   "outputs": [],
   "source": [
    "import matplotlib.pyplot as plt\n",
    "from scipy import signal\n",
    "from scipy.io import wavfile as wav\n",
    "import numpy as np\n",
    "\n",
    "sample_rate, samples = wav.read('audio_files/spectrogram_audio.wav')\n",
    "#frequencies, times, spectrogram = signal.spectrogram(samples[0:sample_rate*7], sample_rate, nfft = 4096)\n",
    "frequencies, times, spectrogram, im = plt.specgram(samples[0:sample_rate*7], Fs=sample_rate)#, nfft = 4096)\n",
    "\n",
    "# plt.figure(figsize=(20,5))\n",
    "# plt.ylabel('Frequency [Hz]')\n",
    "# plt.xlabel('Time [sec]')\n",
    "# plt.pcolormesh(times, frequencies, spectrogram, cmap='plasma')"
   ]
  },
  {
   "cell_type": "code",
   "execution_count": null,
   "metadata": {},
   "outputs": [],
   "source": []
  }
 ],
 "metadata": {
  "kernelspec": {
   "display_name": "Python 3",
   "language": "python",
   "name": "python3"
  },
  "language_info": {
   "codemirror_mode": {
    "name": "ipython",
    "version": 3
   },
   "file_extension": ".py",
   "mimetype": "text/x-python",
   "name": "python",
   "nbconvert_exporter": "python",
   "pygments_lexer": "ipython3",
   "version": "3.6.9"
  }
 },
 "nbformat": 4,
 "nbformat_minor": 2
}
